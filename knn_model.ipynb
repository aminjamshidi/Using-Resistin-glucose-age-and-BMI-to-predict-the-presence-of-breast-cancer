{
 "cells": [
  {
   "cell_type": "markdown",
   "id": "69aa59a5",
   "metadata": {},
   "source": [
    "# KNN"
   ]
  },
  {
   "cell_type": "code",
   "execution_count": 1,
   "id": "653b0b0b",
   "metadata": {},
   "outputs": [
    {
     "data": {
      "text/plain": [
       "(116, 4)"
      ]
     },
     "execution_count": 1,
     "metadata": {},
     "output_type": "execute_result"
    }
   ],
   "source": [
    "import numpy as np\n",
    "import pandas as pd\n",
    "from sklearn.model_selection import KFold\n",
    "from sklearn.neighbors import KNeighborsClassifier\n",
    "from sklearn.decomposition import PCA\n",
    "from sklearn.metrics import f1_score\n",
    "\n",
    "\n",
    "def unison_shuffle(a,b):\n",
    "    inx=np.random.permutation(a.shape[0])\n",
    "    return a[inx],b[inx]\n",
    "\n",
    "df=pd.read_csv('dataR2.csv')\n",
    "\n",
    "df_1=df.drop(['Classification'],axis=1)\n",
    "process_data=pd.DataFrame()\n",
    "t=df_1.mean()\n",
    "r=df_1.std()\n",
    "process_data=(df_1-t)/r\n",
    "\n",
    "process_data=process_data[['Age', 'Glucose', 'BMI', 'Resistin']]\n",
    "\n",
    "x=process_data.to_numpy()\n",
    "y=df['Classification'].to_numpy()\n",
    "y=y-1\n",
    "\n",
    "(x,y)=unison_shuffle(x,y)\n",
    "\n",
    "x.shape"
   ]
  },
  {
   "cell_type": "code",
   "execution_count": 2,
   "id": "6078de3a",
   "metadata": {},
   "outputs": [
    {
     "name": "stdout",
     "output_type": "stream",
     "text": [
      "acc:\n",
      "1.0\n",
      "0.8060400841461997\n",
      "##############################\n",
      "f1\n",
      "1.0\n",
      "0.8283964767173628\n"
     ]
    }
   ],
   "source": [
    "knn_model=KNeighborsClassifier(n_neighbors=5,weights='distance')\n",
    "\n",
    "kf=KFold(n_splits=5)\n",
    "\n",
    "acc_train_knn=[]\n",
    "acc_test_knn=[]\n",
    "\n",
    "\n",
    "\n",
    "f1_train_knn_model=[]\n",
    "f1_test_knn_model=[]\n",
    "\n",
    "f1_d=[]\n",
    "f1_f=[]\n",
    "\n",
    "\n",
    "\n",
    "d=[]\n",
    "f=[]\n",
    "\n",
    "for p in range(100):\n",
    "    (x,y)=unison_shuffle(x,y)\n",
    "    for train_index, test_index in kf.split(x):\n",
    "        X_train, X_test = x[train_index], x[test_index]\n",
    "        y_train, y_test = y[train_index], y[test_index]\n",
    "        knn_model.fit(X_train, y_train)\n",
    "        \n",
    "        y_pred_train= knn_model.predict(X_train)\n",
    "        f1_train=f1_score(y_train, y_pred_train)\n",
    "        f1_train_knn_model.append(f1_train)\n",
    "        \n",
    "        y_pred_test= knn_model.predict(X_test)\n",
    "        f1_test=f1_score(y_test, y_pred_test)\n",
    "        f1_test_knn_model.append(f1_test)\n",
    "        \n",
    "        \n",
    "        \n",
    "        acc_train_knn.append(knn_model.score(X_train, y_train))\n",
    "        acc_test_knn.append(knn_model.score(X_test, y_test))\n",
    "\n",
    "\n",
    "\n",
    "   # print('!!!!!!!!!!!!!!!!!!!!!!!!!!!!')\n",
    "    acc_train_logistic=np.array(acc_train_knn)\n",
    "    #print(acc_train_logistic.mean())\n",
    "    d.append(acc_train_logistic.mean())\n",
    "    #print('!!!!!!!!!!!!!!!!!!!!!!!!!!!!')\n",
    "    acc_test_logistic=np.array(acc_test_knn)\n",
    "    f.append(acc_test_logistic.mean())\n",
    "    #print(acc_test_logistic.mean())\n",
    "    f1_d.append(sum(f1_train_knn_model)/len(f1_train_knn_model))\n",
    "    f1_f.append(sum(f1_test_knn_model)/len(f1_test_knn_model))\n",
    " \n",
    "\n",
    "print('acc:')    \n",
    "print(sum(d)/len(d))\n",
    "\n",
    "print(sum(f)/len(f))    \n",
    "\n",
    "print('##############################')\n",
    "\n",
    "print('f1')\n",
    "print(sum(f1_d)/len(f1_d))\n",
    "\n",
    "print(sum(f1_f)/len(f1_f))    "
   ]
  },
  {
   "cell_type": "markdown",
   "id": "668dc4c9",
   "metadata": {},
   "source": [
    "# useing pca"
   ]
  },
  {
   "cell_type": "code",
   "execution_count": 32,
   "id": "07035044",
   "metadata": {},
   "outputs": [
    {
     "name": "stdout",
     "output_type": "stream",
     "text": [
      "1.0\n",
      "0.7646385363441567\n"
     ]
    }
   ],
   "source": [
    "pca = PCA(n_components=3)\n",
    "\n",
    "temp=df_1[['Age', 'Glucose', 'BMI', 'Resistin']].to_numpy()\n",
    "x_new=pca.fit_transform(temp)\n",
    "\n",
    "y=df['Classification'].to_numpy()\n",
    "y=y-1\n",
    "\n",
    "acc_train_logisticRegression=[]\n",
    "acc_test_logisticRegression=[]\n",
    "\n",
    "\n",
    "\n",
    "x_new=(x_new-(x_new.mean(axis=0)))/(x_new.std(axis=0))\n",
    "\n",
    "\n",
    "d=[]\n",
    "f=[]\n",
    "\n",
    "for p in range(50):\n",
    "    (x_new,y)=unison_shuffle(x_new,y)\n",
    "    for train_index, test_index in kf.split(x_new):\n",
    "        X_train, X_test = x_new[train_index], x_new[test_index]\n",
    "        y_train, y_test = y[train_index], y[test_index]\n",
    "        knn_model.fit(X_train, y_train)\n",
    "        acc_train_logisticRegression.append(knn_model.score(X_train, y_train))\n",
    "        acc_test_logisticRegression.append(knn_model.score(X_test, y_test))\n",
    "\n",
    "\n",
    "\n",
    "   # print('!!!!!!!!!!!!!!!!!!!!!!!!!!!!')\n",
    "    acc_train_logistic=np.array(acc_train_logisticRegression)\n",
    "    #print(acc_train_logistic.mean())\n",
    "    d.append(acc_train_logistic.mean())\n",
    "    #print('!!!!!!!!!!!!!!!!!!!!!!!!!!!!')\n",
    "    acc_test_logistic=np.array(acc_test_logisticRegression)\n",
    "    f.append(acc_test_logistic.mean())\n",
    "    #print(acc_test_logistic.mean())\n",
    "    \n",
    "print(sum(d)/len(d))\n",
    "\n",
    "print(sum(f)/len(f)) \n"
   ]
  },
  {
   "cell_type": "code",
   "execution_count": null,
   "id": "4cd9143a",
   "metadata": {},
   "outputs": [],
   "source": []
  }
 ],
 "metadata": {
  "kernelspec": {
   "display_name": "Python 3",
   "language": "python",
   "name": "python3"
  },
  "language_info": {
   "codemirror_mode": {
    "name": "ipython",
    "version": 3
   },
   "file_extension": ".py",
   "mimetype": "text/x-python",
   "name": "python",
   "nbconvert_exporter": "python",
   "pygments_lexer": "ipython3",
   "version": "3.8.8"
  }
 },
 "nbformat": 4,
 "nbformat_minor": 5
}
