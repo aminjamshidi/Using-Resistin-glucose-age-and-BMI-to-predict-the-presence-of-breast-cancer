{
 "cells": [
  {
   "cell_type": "markdown",
   "id": "15577145",
   "metadata": {},
   "source": [
    "# Logistic regression:"
   ]
  },
  {
   "cell_type": "code",
   "execution_count": 2,
   "id": "ff5304c1",
   "metadata": {},
   "outputs": [
    {
     "data": {
      "text/plain": [
       "(116, 5)"
      ]
     },
     "execution_count": 2,
     "metadata": {},
     "output_type": "execute_result"
    }
   ],
   "source": [
    "import numpy as np\n",
    "import pandas as pd\n",
    "from sklearn.decomposition import PCA\n",
    "from sklearn.model_selection import KFold\n",
    "from sklearn.linear_model import LogisticRegression\n",
    "from sklearn.feature_selection import SelectKBest, chi2\n",
    "from sklearn.metrics import f1_score\n",
    "\n",
    "def unison_shuffle(a,b):\n",
    "    inx=np.random.permutation(a.shape[0])\n",
    "    return a[inx],b[inx]\n",
    "\n",
    "\n",
    "df=pd.read_csv('dataR2.csv')\n",
    "\n",
    "df_1=df.drop(['Classification'],axis=1)\n",
    "process_data=pd.DataFrame()\n",
    "t=df_1.mean()\n",
    "r=df_1.std()\n",
    "process_data=(df_1-t)/r\n",
    "\n",
    "\n",
    "\n",
    "\n",
    "\n",
    "process_data=process_data[['Age', 'Glucose', 'BMI', 'Resistin', 'HOMA']]\n",
    "\n",
    "\n",
    "x=process_data.to_numpy()\n",
    "y=df['Classification'].to_numpy()\n",
    "y=y-1\n",
    "\n",
    "'''x_new = SelectKBest(chi2, k=6).fit_transform(x, y)\n",
    "\n",
    "v=x_new.mean(axis=0)\n",
    "w=x_new.std(axis=0)\n",
    "x_new=(x_new-v)/w'''\n",
    "\n",
    "\n",
    "(x,y)=unison_shuffle(x,y)\n",
    "\n",
    "x.shape"
   ]
  },
  {
   "cell_type": "code",
   "execution_count": 5,
   "id": "b96e0978",
   "metadata": {},
   "outputs": [
    {
     "name": "stdout",
     "output_type": "stream",
     "text": [
      "acc:\n",
      "0.7856723381809165\n",
      "0.754996479854442\n",
      "##############################\n",
      "f1\n",
      "0.7976674461613084\n",
      "0.7646592481451449\n"
     ]
    }
   ],
   "source": [
    "logisticRegression_model=LogisticRegression(C=10)\n",
    "\n",
    "\n",
    "kf=KFold(n_splits=5)\n",
    "\n",
    "acc_train_logisticRegression=[]\n",
    "acc_test_logisticRegression=[]\n",
    "\n",
    "f1_train_logisticRegression=[]\n",
    "f1_test_logisticRegression=[]\n",
    "\n",
    "f1_d=[]\n",
    "f1_f=[]\n",
    "\n",
    "d=[]\n",
    "f=[]\n",
    "\n",
    "for p in range(40):\n",
    "    (x,y)=unison_shuffle(x,y)\n",
    "    for train_index, test_index in kf.split(x):\n",
    "        X_train, X_test = x[train_index], x[test_index]\n",
    "        y_train, y_test = y[train_index], y[test_index]\n",
    "        logisticRegression_model.fit(X_train, y_train)\n",
    "        \n",
    "        \n",
    "        y_pred_train=logisticRegression_model.predict(X_train)\n",
    "        f1_train=f1_score(y_train, y_pred_train)\n",
    "        f1_train_logisticRegression.append(f1_train)\n",
    "        \n",
    "        y_pred_test=logisticRegression_model.predict(X_test)\n",
    "        f1_test=f1_score(y_test, y_pred_test)\n",
    "        f1_test_logisticRegression.append(f1_test)\n",
    "        \n",
    "        acc_train_logisticRegression.append(logisticRegression_model.score(X_train, y_train))\n",
    "        acc_test_logisticRegression.append(logisticRegression_model.score(X_test, y_test))\n",
    "\n",
    "\n",
    "\n",
    "   # print('!!!!!!!!!!!!!!!!!!!!!!!!!!!!')\n",
    "    acc_train_logistic=np.array(acc_train_logisticRegression)\n",
    "    #print(acc_train_logistic.mean())\n",
    "    d.append(acc_train_logistic.mean())\n",
    "    #print('!!!!!!!!!!!!!!!!!!!!!!!!!!!!')\n",
    "    acc_test_logistic=np.array(acc_test_logisticRegression)\n",
    "    f.append(acc_test_logistic.mean())\n",
    "    #print(acc_test_logistic.mean())\n",
    "    f1_d.append(sum(f1_train_logisticRegression)/len(f1_train_logisticRegression))\n",
    "    f1_f.append(sum(f1_test_logisticRegression)/len(f1_test_logisticRegression))\n",
    "    \n",
    "    \n",
    "print('acc:')    \n",
    "print(sum(d)/len(d))\n",
    "\n",
    "print(sum(f)/len(f))    \n",
    "\n",
    "print('##############################')\n",
    "\n",
    "print('f1')\n",
    "print(sum(f1_d)/len(f1_d))\n",
    "\n",
    "print(sum(f1_f)/len(f1_f))"
   ]
  },
  {
   "cell_type": "markdown",
   "id": "3a050d3d",
   "metadata": {},
   "source": [
    "# using pca\n",
    "در این قسمت با استفاده از \n",
    "pca\n",
    "\n",
    " سعی کرده که نتیجه بهتری بگیریم که البته نشد\n",
    " \n",
    " که متغیر \n",
    " temp\n",
    " \n",
    " تعیین کننده ورودی به \n",
    " pca\n",
    " \n",
    " است"
   ]
  },
  {
   "cell_type": "code",
   "execution_count": 26,
   "id": "3b1e146c",
   "metadata": {},
   "outputs": [
    {
     "name": "stdout",
     "output_type": "stream",
     "text": [
      "0.7410140157905133\n",
      "0.714900645840699\n"
     ]
    }
   ],
   "source": [
    "pca = PCA(n_components=3)\n",
    "\n",
    "temp=df[['Age', 'Glucose', 'BMI', 'Resistin', 'HOMA','Classification']].to_numpy()\n",
    "\n",
    "x_new=pca.fit_transform(temp)\n",
    "\n",
    "y=df['Classification'].to_numpy()\n",
    "y=y-1\n",
    "\n",
    "acc_train_logisticRegression=[]\n",
    "acc_test_logisticRegression=[]\n",
    "\n",
    "\n",
    "\n",
    "x_new=(x_new-(x_new.mean(axis=0)))/(x_new.std(axis=0))\n",
    "\n",
    "\n",
    "d=[]\n",
    "f=[]\n",
    "\n",
    "for p in range(50):\n",
    "    (x_new,y)=unison_shuffle(x_new,y)\n",
    "    for train_index, test_index in kf.split(x_new):\n",
    "        X_train, X_test = x_new[train_index], x_new[test_index]\n",
    "        y_train, y_test = y[train_index], y[test_index]\n",
    "        logisticRegression_model.fit(X_train, y_train)\n",
    "        acc_train_logisticRegression.append(logisticRegression_model.score(X_train, y_train))\n",
    "        acc_test_logisticRegression.append(logisticRegression_model.score(X_test, y_test))\n",
    "\n",
    "\n",
    "\n",
    "   # print('!!!!!!!!!!!!!!!!!!!!!!!!!!!!')\n",
    "    acc_train_logistic=np.array(acc_train_logisticRegression)\n",
    "    #print(acc_train_logistic.mean())\n",
    "    d.append(acc_train_logistic.mean())\n",
    "    #print('!!!!!!!!!!!!!!!!!!!!!!!!!!!!')\n",
    "    acc_test_logistic=np.array(acc_test_logisticRegression)\n",
    "    f.append(acc_test_logistic.mean())\n",
    "    #print(acc_test_logistic.mean())\n",
    "    \n",
    "print(sum(d)/len(d))\n",
    "\n",
    "print(sum(f)/len(f)) \n",
    "\n"
   ]
  },
  {
   "cell_type": "code",
   "execution_count": null,
   "id": "e0e12420",
   "metadata": {},
   "outputs": [],
   "source": []
  },
  {
   "cell_type": "code",
   "execution_count": null,
   "id": "7b011324",
   "metadata": {},
   "outputs": [],
   "source": []
  }
 ],
 "metadata": {
  "kernelspec": {
   "display_name": "Python 3",
   "language": "python",
   "name": "python3"
  },
  "language_info": {
   "codemirror_mode": {
    "name": "ipython",
    "version": 3
   },
   "file_extension": ".py",
   "mimetype": "text/x-python",
   "name": "python",
   "nbconvert_exporter": "python",
   "pygments_lexer": "ipython3",
   "version": "3.8.8"
  }
 },
 "nbformat": 4,
 "nbformat_minor": 5
}
