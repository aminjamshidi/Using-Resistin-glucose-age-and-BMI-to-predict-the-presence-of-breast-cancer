{
 "cells": [
  {
   "cell_type": "markdown",
   "id": "c7331d58",
   "metadata": {},
   "source": [
    "# روش چک کردن تمام حالت های ممکن برای رسید به ترکیب مناسب فیچر ها برای هر الگوریتم\n",
    "\n",
    "برای رسیدن به تمام حالات فیچر ها یعنی هر 511 حالت ممکن از تابع \n",
    "poweset\n",
    "استفاده می کنیم\n",
    "\n",
    "که خروجی این تابع تمام ترکیب های ممکن این 9 فیچر است\n",
    "\n",
    "\n",
    "همینطور از تابع\n",
    "unison_shuffle\n",
    " برای شافل کردن داده ها استفاده می کنیم\n",
    " \n",
    " \n",
    " \n",
    " \n",
    " این روش به اینصورت است که در یک حلقه تک تک 511 حالت به این شیوه چک می شود که \n",
    " اول مدل مورد نظر را انتخاب کرده و پس از آن 40 بار داده ها را شافل کرده و در هر بار با روش \n",
    " k-fold\n",
    "مقدار میانگین صحت داده های تست و ترین را بدست می آوریم پس اجرا حلقه 40 تایی مقدار صحت ها را در این 40 بار میانگین می گیریم\n",
    "\n",
    "\n",
    "\n",
    "بعد بیشترین مقدار صحت برای تست و ترین را پیدا کرده و برای هر با بررسی مقادیر بهترین ترکیب را برای اعمال به الگوریتم پیدا می کنیم\n",
    "  "
   ]
  },
  {
   "cell_type": "code",
   "execution_count": null,
   "id": "7b5b8e82",
   "metadata": {},
   "outputs": [],
   "source": [
    "import numpy as np\n",
    "import pandas as pd\n",
    "from sklearn.decomposition import PCA\n",
    "from sklearn.model_selection import KFold\n",
    "from sklearn.linear_model import LogisticRegression\n",
    "from sklearn.feature_selection import SelectKBest, chi2\n",
    "from sklearn import svm\n",
    "from sklearn import tree\n",
    "from sklearn.neighbors import KNeighborsClassifier\n",
    "\n",
    "\n",
    "def powerset(s):\n",
    "    x = len(s)\n",
    "    out=[]\n",
    "    for i in range(1 << x):\n",
    "        out.append([s[j] for j in range(x) if (i & (1 << j))])\n",
    "    return out\n",
    "\n",
    "\n",
    "def unison_shuffle(a,b):\n",
    "    inx=np.random.permutation(a.shape[0])\n",
    "    return a[inx],b[inx]\n",
    "\n",
    "\n",
    "df=pd.read_csv('dataR2.csv')\n",
    "\n",
    "df_1=df.drop(['Classification'],axis=1)\n",
    "process_data=pd.DataFrame()\n",
    "\n",
    "t=df_1.mean()\n",
    "r=df_1.std()\n",
    "df_1=(df_1-t)/r#داده ها را نورمالایز می کنیم\n",
    "\n",
    "\n",
    "y=df['Classification'].to_numpy()\n",
    "y=y-1#در انجا خروجی را به این شکل یه صورت صفر و یک در می آوریم\n",
    "\n",
    "kf=KFold(n_splits=5)\n",
    "\n",
    "\n",
    "logisticRegression_model=svm.SVC(kernel='rbf',C=5)#این متغیر برابر با مدل است \n",
    "#و برای چک کردن هر الگوریتم نیاز است مدل مورد نظر را در اینجا تعریف کنیم\n",
    "\n",
    "\n",
    "\n",
    "all_labels=['Age','Glucose','BMI','Resistin','Adiponectin','Insulin','HOMA','Leptin','MCP.1']\n",
    "\n",
    "\n",
    "all_mood=powerset(all_labels)#این لیست شامل تمام ترکیب های 9 فیچر کنار هم است\n",
    "del all_mood[0]#عضو اول لیست که تهی است را حذف می کنیم\n",
    "\n",
    "#all_mood=[['Age', 'Glucose', 'BMI', 'Adiponectin'],\n",
    "  #        ['Resistin', 'Adiponectin', 'Insulin'],\n",
    " #        ['Glucose', 'BMI', 'Resistin', 'Adiponectin']]\n",
    "\n",
    "#samp=all_mood[30:70]\n",
    "\n",
    "inx=0\n",
    "\n",
    "total_train=[]\n",
    "total_test=[]\n",
    "\n",
    "for k in all_mood:\n",
    "    \n",
    "    acc_train_mood=[]\n",
    "    acc_test_mood=[]\n",
    "    \n",
    "    acc_train_mood.clear()\n",
    "    acc_test_mood.clear()\n",
    "    \n",
    "    \n",
    "    inx=inx+1\n",
    "    process_data=df_1[k]\n",
    "    x=process_data.to_numpy()\n",
    "    y=df['Classification'].to_numpy()\n",
    "    y=y-1\n",
    "    \n",
    "    \n",
    "    (x,y)=unison_shuffle(x,y)# داده ها بعد از هر مرحله از 40 بار شافل می شوند\n",
    "    \n",
    "    \n",
    "    for l in range(40):\n",
    "        (x,y)=unison_shuffle(x,y)\n",
    "        acc_train_logisticRegression=[]\n",
    "        acc_test_logisticRegression=[]\n",
    "        \n",
    "        acc_train_logisticRegression.clear()\n",
    "        acc_test_logisticRegression.clear()\n",
    "        \n",
    "        for train_index, test_index in kf.split(x):\n",
    "            X_train, X_test = x[train_index], x[test_index]\n",
    "            y_train, y_test = y[train_index], y[test_index]\n",
    "            logisticRegression_model.fit(X_train, y_train)\n",
    "            acc_train_logisticRegression.append(logisticRegression_model.score(X_train, y_train))\n",
    "            acc_test_logisticRegression.append(logisticRegression_model.score(X_test, y_test))\n",
    "            \n",
    "        acc_train_mood.append(sum(acc_train_logisticRegression)/len(acc_train_logisticRegression))\n",
    "        acc_test_mood.append(sum(acc_test_logisticRegression)/len(acc_test_logisticRegression))\n",
    "        \n",
    "        \n",
    "            \n",
    "            \n",
    "    n=sum(acc_train_mood) /len(acc_train_mood)\n",
    "    total_train.append(n)\n",
    "    m=sum(acc_test_mood)/len(acc_test_mood)\n",
    "    total_test.append(m)\n",
    "    \n",
    "    \n",
    "   # print(inx)\n",
    "   # print(k)\n",
    "   # print('acc_train='+str(n))\n",
    "   # print('acc_test='+str(m))    \n",
    "   # print('###############################################################################')"
   ]
  },
  {
   "cell_type": "markdown",
   "id": "ed922606",
   "metadata": {},
   "source": [
    "# در اینجا مقدار بیشینه برای صحت برای حالت های تست و ترین را میابیم"
   ]
  },
  {
   "cell_type": "code",
   "execution_count": 66,
   "id": "b921ec80",
   "metadata": {},
   "outputs": [
    {
     "name": "stdout",
     "output_type": "stream",
     "text": [
      "0.95346306685367\n",
      "0.8131340579710142\n"
     ]
    }
   ],
   "source": [
    "print(max(total_train))\n",
    "print(max(total_test))"
   ]
  },
  {
   "cell_type": "code",
   "execution_count": 67,
   "id": "fa5bd54e",
   "metadata": {},
   "outputs": [
    {
     "data": {
      "text/plain": [
       "446"
      ]
     },
     "execution_count": 67,
     "metadata": {},
     "output_type": "execute_result"
    }
   ],
   "source": [
    "total_train.index(max(total_train))\n"
   ]
  },
  {
   "cell_type": "code",
   "execution_count": 68,
   "id": "cfbf7164",
   "metadata": {},
   "outputs": [
    {
     "data": {
      "text/plain": [
       "10"
      ]
     },
     "execution_count": 68,
     "metadata": {},
     "output_type": "execute_result"
    }
   ],
   "source": [
    "total_test.index(max(total_test))"
   ]
  },
  {
   "cell_type": "code",
   "execution_count": 70,
   "id": "d00a4e48",
   "metadata": {},
   "outputs": [
    {
     "name": "stdout",
     "output_type": "stream",
     "text": [
      "['Age', 'Glucose', 'BMI', 'Resistin', 'Adiponectin', 'Insulin', 'Leptin', 'MCP.1']\n",
      "0.95346306685367\n",
      "0.7342119565217392\n"
     ]
    }
   ],
   "source": [
    "print(all_mood[446])\n",
    "print(total_train[446])\n",
    "print(total_test[446])"
   ]
  },
  {
   "cell_type": "code",
   "execution_count": 69,
   "id": "70214fc8",
   "metadata": {},
   "outputs": [
    {
     "name": "stdout",
     "output_type": "stream",
     "text": [
      "['Age', 'Glucose', 'Resistin']\n",
      "0.8698316970546983\n",
      "0.8131340579710142\n"
     ]
    }
   ],
   "source": [
    "print(all_mood[10])\n",
    "print(total_train[10])\n",
    "print(total_test[10])"
   ]
  }
 ],
 "metadata": {
  "kernelspec": {
   "display_name": "Python 3",
   "language": "python",
   "name": "python3"
  },
  "language_info": {
   "codemirror_mode": {
    "name": "ipython",
    "version": 3
   },
   "file_extension": ".py",
   "mimetype": "text/x-python",
   "name": "python",
   "nbconvert_exporter": "python",
   "pygments_lexer": "ipython3",
   "version": "3.8.8"
  }
 },
 "nbformat": 4,
 "nbformat_minor": 5
}
